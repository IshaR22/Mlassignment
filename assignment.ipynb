{
 "cells": [
  {
   "cell_type": "code",
   "execution_count": null,
   "id": "73b3b41e-a0cc-4dca-97f2-8f7a8ed9ec6f",
   "metadata": {},
   "outputs": [],
   "source": [
    "Q1. What is Min-Max scaling, and how is it used in data preprocessing? Provide an example to illustrate its\n",
    "application."
   ]
  },
  {
   "cell_type": "code",
   "execution_count": null,
   "id": "79e3b3f2-761b-4eeb-8a94-f175d4fc3172",
   "metadata": {},
   "outputs": [],
   "source": [
    "min-max scaling  is a data processing technique use to scale the feature of the dataset to a specific range[0,1]\n",
    "specifically used when the data is not normally distributed \n",
    "formula\n",
    "x=original value\n",
    "normalised value= x- min (x)/max(x)-min(x)"
   ]
  },
  {
   "cell_type": "code",
   "execution_count": 1,
   "id": "558c07e7-16c8-4d95-9036-2fddeac2bf4b",
   "metadata": {},
   "outputs": [
    {
     "name": "stdout",
     "output_type": "stream",
     "text": [
      "Original DataFrame:\n",
      "    A    B  C\n",
      "0  10  200  1\n",
      "1  15  220  2\n",
      "2  10  240  1\n",
      "3  20  210  3\n",
      "4  25  230  0\n",
      "\n",
      "Scaled DataFrame:\n",
      "          A     B         C\n",
      "0  0.000000  0.00  0.333333\n",
      "1  0.333333  0.50  0.666667\n",
      "2  0.000000  1.00  0.333333\n",
      "3  0.666667  0.25  1.000000\n",
      "4  1.000000  0.75  0.000000\n"
     ]
    }
   ],
   "source": [
    "import pandas as pd  \n",
    "from sklearn.preprocessing import MinMaxScaler  \n",
    "data = {  \n",
    "    'A': [10, 15, 10, 20, 25],  \n",
    "    'B': [200, 220, 240, 210, 230],  \n",
    "    'C': [1, 2, 1, 3, 0]  \n",
    "}  \n",
    "df = pd.DataFrame(data)    \n",
    "scaler = MinMaxScaler()  \n",
    "scaled_data = scaler.fit_transform(df)  \n",
    "scaled_df = pd.DataFrame(scaled_data, columns=df.columns)  \n",
    "\n",
    "print(\"Original DataFrame:\")  \n",
    "print(df)  \n",
    "print(\"\\nScaled DataFrame:\")  \n",
    "print(scaled_df)"
   ]
  },
  {
   "cell_type": "code",
   "execution_count": null,
   "id": "48dc2d39-78ae-4f6f-b5f6-2c040376b23a",
   "metadata": {},
   "outputs": [],
   "source": [
    "Q2. What is the Unit Vector technique in feature scaling, and how does it differ from Min-Max scaling?\n",
    "Provide an example to illustrate its application."
   ]
  },
  {
   "cell_type": "code",
   "execution_count": null,
   "id": "92442303-052f-4c5c-84bd-f6fb0dddb460",
   "metadata": {},
   "outputs": [],
   "source": [
    "The Unit Vector technique, is a form of feature scaling that rescales the feature vectors to have a length of 1.\n",
    "This transformation converts each feature vector into a unit vector, thereby standardizing the direction of the\n",
    "data points without changing their relationships. \n",
    "formula\n",
    "unit vector=x/||x||\n",
    "\n",
    "Min-Max Scaling\n",
    "Rescales the data to a specific range[0,1].\n",
    "The relative differences between features are preserved, but those features are brought to a common range.\n",
    "\n",
    "Unit Vector Technique\n",
    "Focuses on the direction of the data rather than the actual values. It normalizes the scale, which is \n",
    "particularly useful for direction-sensitive algorithms.\n",
    "Scales the data such that the magnitude of each vector is 1.\n"
   ]
  },
  {
   "cell_type": "code",
   "execution_count": 4,
   "id": "10997488-f514-4ac4-b568-f687be538fcb",
   "metadata": {},
   "outputs": [
    {
     "data": {
      "text/plain": [
       "array([[0.04993699, 0.99873989, 0.0049937 ],\n",
       "       [0.06802109, 0.99764266, 0.00906948],\n",
       "       [0.04163018, 0.99912442, 0.00416302],\n",
       "       [0.09479951, 0.99539482, 0.01421993],\n",
       "       [0.10805918, 0.99414446, 0.        ]])"
      ]
     },
     "execution_count": 4,
     "metadata": {},
     "output_type": "execute_result"
    }
   ],
   "source": [
    "import pandas as pd  \n",
    "from sklearn.preprocessing import normalize\n",
    "data = {  \n",
    "    'A': [10, 15, 10, 20, 25],  \n",
    "    'B': [200, 220, 240, 210, 230],  \n",
    "    'C': [1, 2, 1, 3, 0]  \n",
    "}  \n",
    "df = pd.DataFrame(data)  \n",
    "normalize(df[['A', 'B', 'C']])"
   ]
  },
  {
   "cell_type": "code",
   "execution_count": 5,
   "id": "748763fb-2a71-4538-a8cd-f6b3151ffe5c",
   "metadata": {},
   "outputs": [
    {
     "data": {
      "text/html": [
       "<div>\n",
       "<style scoped>\n",
       "    .dataframe tbody tr th:only-of-type {\n",
       "        vertical-align: middle;\n",
       "    }\n",
       "\n",
       "    .dataframe tbody tr th {\n",
       "        vertical-align: top;\n",
       "    }\n",
       "\n",
       "    .dataframe thead th {\n",
       "        text-align: right;\n",
       "    }\n",
       "</style>\n",
       "<table border=\"1\" class=\"dataframe\">\n",
       "  <thead>\n",
       "    <tr style=\"text-align: right;\">\n",
       "      <th></th>\n",
       "      <th>A</th>\n",
       "      <th>B</th>\n",
       "      <th>C</th>\n",
       "    </tr>\n",
       "  </thead>\n",
       "  <tbody>\n",
       "    <tr>\n",
       "      <th>0</th>\n",
       "      <td>0.049937</td>\n",
       "      <td>0.998740</td>\n",
       "      <td>0.004994</td>\n",
       "    </tr>\n",
       "    <tr>\n",
       "      <th>1</th>\n",
       "      <td>0.068021</td>\n",
       "      <td>0.997643</td>\n",
       "      <td>0.009069</td>\n",
       "    </tr>\n",
       "    <tr>\n",
       "      <th>2</th>\n",
       "      <td>0.041630</td>\n",
       "      <td>0.999124</td>\n",
       "      <td>0.004163</td>\n",
       "    </tr>\n",
       "    <tr>\n",
       "      <th>3</th>\n",
       "      <td>0.094800</td>\n",
       "      <td>0.995395</td>\n",
       "      <td>0.014220</td>\n",
       "    </tr>\n",
       "    <tr>\n",
       "      <th>4</th>\n",
       "      <td>0.108059</td>\n",
       "      <td>0.994144</td>\n",
       "      <td>0.000000</td>\n",
       "    </tr>\n",
       "  </tbody>\n",
       "</table>\n",
       "</div>"
      ],
      "text/plain": [
       "          A         B         C\n",
       "0  0.049937  0.998740  0.004994\n",
       "1  0.068021  0.997643  0.009069\n",
       "2  0.041630  0.999124  0.004163\n",
       "3  0.094800  0.995395  0.014220\n",
       "4  0.108059  0.994144  0.000000"
      ]
     },
     "execution_count": 5,
     "metadata": {},
     "output_type": "execute_result"
    }
   ],
   "source": [
    "import pandas as pd\n",
    "pd.DataFrame(normalize(df[['A', 'B', 'C']]),\n",
    "             columns=['A', 'B', 'C'])"
   ]
  },
  {
   "cell_type": "code",
   "execution_count": null,
   "id": "d822511b-3cfb-4a5e-b90f-fd1755508d7b",
   "metadata": {},
   "outputs": [],
   "source": [
    "Q3. What is PCA, and how is it used in dimensionality reduction? Provide an\n",
    "example to illustrate its application."
   ]
  },
  {
   "cell_type": "code",
   "execution_count": null,
   "id": "9c504554-7d7e-44c3-9192-8597ee1ecb5b",
   "metadata": {},
   "outputs": [],
   "source": [
    "PCA is a statistical technique used for dimensionality reduction while preserving as much variance as possible in a dataset.\n",
    "It transforms a high-dimensional dataset into a lower-dimensional one by identifying the directions in which the data varies \n",
    "the most. Essentially, PCA helps to simplify complex datasets by reducing the number of dimensions while retaining the most\n",
    "important features."
   ]
  },
  {
   "cell_type": "code",
   "execution_count": null,
   "id": "b9d81d85-082c-4277-a096-95006d4bfab4",
   "metadata": {},
   "outputs": [],
   "source": [
    "Q4. What is the relationship between PCA and Feature Extraction, and how can PCA be used for Feature\n",
    "Extraction? Provide an example to illustrate this concept."
   ]
  },
  {
   "cell_type": "code",
   "execution_count": null,
   "id": "105be90e-9e1c-4368-828d-857235feb5e4",
   "metadata": {},
   "outputs": [],
   "source": [
    "PCA transformed the original features into  principal components, which capture the most variability in the data. These \n",
    "principal components can be used as features in subsequent analysis or modeling tasks, thereby reducing dimensional \n",
    "complexity while retaining the most important information. PCA serves as an effective technique for feature extraction, \n",
    "especially when working with high-dimensional data."
   ]
  },
  {
   "cell_type": "code",
   "execution_count": null,
   "id": "ebb606f3-03ed-4e6d-b96b-8eff725b5405",
   "metadata": {},
   "outputs": [],
   "source": [
    "Q5. You are working on a project to build a recommendation system for a food delivery service. The \n",
    "dataset contains features such as price, rating, and delivery time. Explain how you would use Min-Max\n",
    "scaling to preprocess the data."
   ]
  },
  {
   "cell_type": "code",
   "execution_count": 3,
   "id": "3c02819d-e80d-4a33-9668-fa792f95b3cc",
   "metadata": {},
   "outputs": [
    {
     "data": {
      "text/plain": [
       "array([[0.31854103, 0.81818182, 0.4       ],\n",
       "       [0.77507599, 0.        , 1.        ],\n",
       "       [0.        , 0.45454545, 0.        ],\n",
       "       [1.        , 1.        , 0.6       ]])"
      ]
     },
     "execution_count": 3,
     "metadata": {},
     "output_type": "execute_result"
    }
   ],
   "source": [
    "import pandas as pd\n",
    "from sklearn.preprocessing import MinMaxScaler\n",
    "df = pd.DataFrame({\n",
    "    'price': [15.99, 23.50, 10.75, 27.20],\n",
    "    'rating': [4.7, 3.8, 4.3, 4.9],\n",
    "    'delivery_time': [30, 45, 20, 35]\n",
    "})\n",
    "\n",
    "from sklearn.preprocessing import MinMaxScaler\n",
    "min_max=MinMaxScaler()\n",
    "min_max.fit(df[['price','rating','delivery_time']])\n",
    "min_max.fit_transform(df[['price','rating','delivery_time']])"
   ]
  },
  {
   "cell_type": "code",
   "execution_count": null,
   "id": "4b128f0b-a347-4924-a40a-7dd932137b80",
   "metadata": {},
   "outputs": [],
   "source": [
    "Q6. You are working on a project to build a model to predict stock prices. The dataset contains many\n",
    "features, such as company financial data and market trends. Explain how you would use PCA to reduce \n",
    "the\n",
    "dimensionality of the dataset."
   ]
  },
  {
   "cell_type": "code",
   "execution_count": 6,
   "id": "b0fb0259-096a-46c2-b408-fcfe4f14ce91",
   "metadata": {},
   "outputs": [
    {
     "data": {
      "text/html": [
       "<div>\n",
       "<style scoped>\n",
       "    .dataframe tbody tr th:only-of-type {\n",
       "        vertical-align: middle;\n",
       "    }\n",
       "\n",
       "    .dataframe tbody tr th {\n",
       "        vertical-align: top;\n",
       "    }\n",
       "\n",
       "    .dataframe thead th {\n",
       "        text-align: right;\n",
       "    }\n",
       "</style>\n",
       "<table border=\"1\" class=\"dataframe\">\n",
       "  <thead>\n",
       "    <tr style=\"text-align: right;\">\n",
       "      <th></th>\n",
       "      <th>A</th>\n",
       "      <th>B</th>\n",
       "      <th>C</th>\n",
       "    </tr>\n",
       "  </thead>\n",
       "  <tbody>\n",
       "    <tr>\n",
       "      <th>0</th>\n",
       "      <td>0.049937</td>\n",
       "      <td>0.998740</td>\n",
       "      <td>0.004994</td>\n",
       "    </tr>\n",
       "    <tr>\n",
       "      <th>1</th>\n",
       "      <td>0.068021</td>\n",
       "      <td>0.997643</td>\n",
       "      <td>0.009069</td>\n",
       "    </tr>\n",
       "    <tr>\n",
       "      <th>2</th>\n",
       "      <td>0.041630</td>\n",
       "      <td>0.999124</td>\n",
       "      <td>0.004163</td>\n",
       "    </tr>\n",
       "    <tr>\n",
       "      <th>3</th>\n",
       "      <td>0.094800</td>\n",
       "      <td>0.995395</td>\n",
       "      <td>0.014220</td>\n",
       "    </tr>\n",
       "    <tr>\n",
       "      <th>4</th>\n",
       "      <td>0.108059</td>\n",
       "      <td>0.994144</td>\n",
       "      <td>0.000000</td>\n",
       "    </tr>\n",
       "  </tbody>\n",
       "</table>\n",
       "</div>"
      ],
      "text/plain": [
       "          A         B         C\n",
       "0  0.049937  0.998740  0.004994\n",
       "1  0.068021  0.997643  0.009069\n",
       "2  0.041630  0.999124  0.004163\n",
       "3  0.094800  0.995395  0.014220\n",
       "4  0.108059  0.994144  0.000000"
      ]
     },
     "execution_count": 6,
     "metadata": {},
     "output_type": "execute_result"
    }
   ],
   "source": [
    "import pandas as pd\n",
    "pd.DataFrame(normalize(df[['A', 'B', 'C']]),\n",
    "             columns=['A', 'B', 'C'])"
   ]
  },
  {
   "cell_type": "code",
   "execution_count": null,
   "id": "76347150-5c63-42c7-934f-42d4fe62039c",
   "metadata": {},
   "outputs": [],
   "source": [
    "Q7. For a dataset containing the following values: [1, 5, 10, 15, 20], perform Min-Max scaling to transform the\n",
    "values to a range of -1 to 1."
   ]
  },
  {
   "cell_type": "code",
   "execution_count": 7,
   "id": "b2ca04d8-7bf2-4aa9-b558-1ae4bd7df863",
   "metadata": {},
   "outputs": [
    {
     "data": {
      "text/plain": [
       "array([-1.        , -0.57894737, -0.05263158,  0.47368421,  1.        ])"
      ]
     },
     "execution_count": 7,
     "metadata": {},
     "output_type": "execute_result"
    }
   ],
   "source": [
    "import numpy as np  \n",
    "data = np.array([1, 5, 10, 15, 20])  \n",
    "min_value = np.min(data)  \n",
    "max_value = np.max(data)  \n",
    "new_min = -1  \n",
    "new_max = 1  \n",
    "scaled_data = ((data - min_value) / (max_value - min_value)) * (new_max - new_min) + new_min  \n",
    "scaled_data"
   ]
  },
  {
   "cell_type": "code",
   "execution_count": null,
   "id": "a095d47a-b520-493c-a137-e33706f2776a",
   "metadata": {},
   "outputs": [],
   "source": []
  }
 ],
 "metadata": {
  "kernelspec": {
   "display_name": "Python 3 (ipykernel)",
   "language": "python",
   "name": "python3"
  },
  "language_info": {
   "codemirror_mode": {
    "name": "ipython",
    "version": 3
   },
   "file_extension": ".py",
   "mimetype": "text/x-python",
   "name": "python",
   "nbconvert_exporter": "python",
   "pygments_lexer": "ipython3",
   "version": "3.10.8"
  }
 },
 "nbformat": 4,
 "nbformat_minor": 5
}
